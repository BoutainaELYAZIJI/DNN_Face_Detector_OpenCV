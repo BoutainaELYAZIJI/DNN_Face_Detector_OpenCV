{
  "nbformat": 4,
  "nbformat_minor": 0,
  "metadata": {
    "colab": {
      "name": "Model_Ac_Ft.ipynb",
      "provenance": [],
      "collapsed_sections": []
    },
    "kernelspec": {
      "name": "python3",
      "display_name": "Python 3"
    },
    "language_info": {
      "name": "python"
    }
  },
  "cells": [
    {
      "cell_type": "markdown",
      "source": [
        ""
      ],
      "metadata": {
        "id": "Ls7VDj9buVlr"
      }
    },
    {
      "cell_type": "markdown",
      "source": [
        "# **Connect To Drive**"
      ],
      "metadata": {
        "id": "3U4waikduWjM"
      }
    },
    {
      "cell_type": "code",
      "execution_count": null,
      "metadata": {
        "id": "3g4xOHE3t8re"
      },
      "outputs": [],
      "source": [
        "from google.colab import drive"
      ]
    },
    {
      "cell_type": "markdown",
      "source": [
        ""
      ],
      "metadata": {
        "id": "nJIP2XctuL8_"
      }
    },
    {
      "cell_type": "code",
      "source": [
        "drive.mount('/content/drive')"
      ],
      "metadata": {
        "colab": {
          "base_uri": "https://localhost:8080/"
        },
        "id": "7yVLIVuzuRuQ",
        "outputId": "a2191ddd-53c1-4c16-9908-d488ac1e3935"
      },
      "execution_count": null,
      "outputs": [
        {
          "output_type": "stream",
          "name": "stdout",
          "text": [
            "Mounted at /content/drive\n"
          ]
        }
      ]
    },
    {
      "cell_type": "code",
      "source": [
        "!ls \"/content/drive/MyDrive/dataSet/test\""
      ],
      "metadata": {
        "id": "Ep4gvEBXu8y3",
        "colab": {
          "base_uri": "https://localhost:8080/"
        },
        "outputId": "324ffda9-d24f-466e-cd22-20b21b3a601f"
      },
      "execution_count": null,
      "outputs": [
        {
          "output_type": "stream",
          "name": "stdout",
          "text": [
            "FinalData\n"
          ]
        }
      ]
    },
    {
      "cell_type": "markdown",
      "source": [
        "# **Import libs**"
      ],
      "metadata": {
        "id": "Yj2Dvopfzsk4"
      }
    },
    {
      "cell_type": "code",
      "source": [
        "import tensorflow as tf\n",
        "from tensorflow import keras\n",
        "import matplotlib.pyplot as plt"
      ],
      "metadata": {
        "id": "-36dxAUmxVPF"
      },
      "execution_count": 7,
      "outputs": []
    },
    {
      "cell_type": "code",
      "source": [
        "IMG_SIZE = 300\n",
        "BATCH_SIZE  = 32\n",
        "chanel = 3"
      ],
      "metadata": {
        "id": "So8iDknT0bOk"
      },
      "execution_count": 10,
      "outputs": []
    },
    {
      "cell_type": "markdown",
      "source": [
        "# **Load Data**"
      ],
      "metadata": {
        "id": "wL7VrGPz3ia6"
      }
    },
    {
      "cell_type": "code",
      "source": [
        "data_set = tf.keras.preprocessing.image_dataset_from_directory(\n",
        "    \"/content/drive/MyDrive/dataSet/test/FinalData\",\n",
        "    shuffle = True,\n",
        "    image_size = (IMG_SIZE, IMG_SIZE),\n",
        "    batch_size = BATCH_SIZE\n",
        ")"
      ],
      "metadata": {
        "colab": {
          "base_uri": "https://localhost:8080/"
        },
        "id": "tb6j-fTAz9Q6",
        "outputId": "be41b3c7-caa6-47a4-8e47-db1ccf1250e6"
      },
      "execution_count": 12,
      "outputs": [
        {
          "output_type": "stream",
          "name": "stdout",
          "text": [
            "Found 9597 files belonging to 2 classes.\n"
          ]
        }
      ]
    },
    {
      "cell_type": "markdown",
      "source": [
        "# **EDA**"
      ],
      "metadata": {
        "id": "RsQ8_-VS3ssq"
      }
    },
    {
      "cell_type": "code",
      "source": [
        "classes = data_set.class_names"
      ],
      "metadata": {
        "id": "MGveUI100LsH"
      },
      "execution_count": 14,
      "outputs": []
    },
    {
      "cell_type": "code",
      "source": [
        "len(data_set)"
      ],
      "metadata": {
        "colab": {
          "base_uri": "https://localhost:8080/"
        },
        "id": "fjetp0371XwS",
        "outputId": "7e4c712d-3c59-4b72-c4dd-53dded0f31d6"
      },
      "execution_count": 17,
      "outputs": [
        {
          "output_type": "execute_result",
          "data": {
            "text/plain": [
              "300"
            ]
          },
          "metadata": {},
          "execution_count": 17
        }
      ]
    },
    {
      "cell_type": "code",
      "source": [
        "9597 // 32"
      ],
      "metadata": {
        "colab": {
          "base_uri": "https://localhost:8080/"
        },
        "id": "fcEfbzV-1ecG",
        "outputId": "89a39ebd-9e9c-4ec8-b960-4f62c197816c"
      },
      "execution_count": 18,
      "outputs": [
        {
          "output_type": "execute_result",
          "data": {
            "text/plain": [
              "299"
            ]
          },
          "metadata": {},
          "execution_count": 18
        }
      ]
    },
    {
      "cell_type": "code",
      "source": [
        "data_set.take(1)"
      ],
      "metadata": {
        "colab": {
          "base_uri": "https://localhost:8080/"
        },
        "id": "uvxJoDQA4qFK",
        "outputId": "f0947bc8-6ec9-4b4e-89ac-75d68a97b953"
      },
      "execution_count": 35,
      "outputs": [
        {
          "output_type": "execute_result",
          "data": {
            "text/plain": [
              "<TakeDataset element_spec=(TensorSpec(shape=(None, 300, 300, 3), dtype=tf.float32, name=None), TensorSpec(shape=(None,), dtype=tf.int32, name=None))>"
            ]
          },
          "metadata": {},
          "execution_count": 35
        }
      ]
    },
    {
      "cell_type": "code",
      "source": [
        "plt.figure(figsize  = (10, 10))\n",
        "for img_batch, lable in data_set.take(1):\n",
        "  for i in range(12):\n",
        "    plt.subplot(3, 4, i + 1)\n",
        "    plt.imshow(img_batch[i].numpy().astype(\"uint8\")) # [<32 batch_size]\n",
        "    plt.title(classes[lable[i]])\n",
        "    plt.axis('off')"
      ],
      "metadata": {
        "id": "3Bdl22lG16Iq"
      },
      "execution_count": null,
      "outputs": []
    },
    {
      "cell_type": "code",
      "source": [
        ""
      ],
      "metadata": {
        "id": "z0a4UheV20Vl"
      },
      "execution_count": 39,
      "outputs": []
    }
  ]
}